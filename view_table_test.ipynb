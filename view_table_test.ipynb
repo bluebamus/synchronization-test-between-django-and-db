{
 "cells": [
  {
   "cell_type": "code",
   "execution_count": 1,
   "id": "31af2f5f-9337-49ac-9f56-cc140a702393",
   "metadata": {},
   "outputs": [],
   "source": [
    "import os"
   ]
  },
  {
   "cell_type": "code",
   "execution_count": 2,
   "id": "8638a5b7-ee84-471a-a378-63d3633b385b",
   "metadata": {},
   "outputs": [],
   "source": [
    "os.environ[\"DJANGO_ALLOW_ASYNC_UNSAFE\"] = \"true\""
   ]
  },
  {
   "cell_type": "code",
   "execution_count": 3,
   "id": "f448a015-f43a-473e-aca9-92c1374286be",
   "metadata": {},
   "outputs": [],
   "source": [
    "from sync.models import ItemCodeInOrder"
   ]
  },
  {
   "cell_type": "code",
   "execution_count": 4,
   "id": "4de72d2f-fee1-4462-8d05-65bc2bd3a6eb",
   "metadata": {},
   "outputs": [
    {
     "data": {
      "text/plain": [
       "<QuerySet [(1, 'dinner', '5bc60f2bd7-319'), (2, 'different', '5e2b0f7847-715'), (3, 'bad', '3eabaa0b35-263'), (4, 'no', '472b81e9f8-979'), (5, 'dinner', '5bc60f2bd7-319'), (6, 'wait', '68bbe13819-802'), (7, 'machine', '8274e9d9a0-798'), (8, 'door', '805e1313fe-651'), (9, 'different', '5e2b0f7847-715'), (10, 'reduce', '4340d03fec-198')]>"
      ]
     },
     "execution_count": 4,
     "metadata": {},
     "output_type": "execute_result"
    }
   ],
   "source": [
    "ItemCodeInOrder.objects.all()[:10].values_list()"
   ]
  },
  {
   "cell_type": "code",
   "execution_count": 5,
   "id": "36818d33-3487-4cb7-8eef-9b59dc4a3332",
   "metadata": {},
   "outputs": [],
   "source": [
    "from sync.models import FullInfoForStockOrder"
   ]
  },
  {
   "cell_type": "code",
   "execution_count": 6,
   "id": "e884f390-dd52-47f1-9dc5-53bb32c20f85",
   "metadata": {},
   "outputs": [
    {
     "data": {
      "text/plain": [
       "<QuerySet [(17, 'no', '472b81e9f8-979', 'admin', '', '', 'admin@admin.com'), (23, 'party', '50b35ee8b2-938', 'Donna Cruz', 'Shepard', 'Dustin', 'tyler42@example.com'), (12, 'party', '50b35ee8b2-938', 'Tammy Hood', 'Wright', 'Jessica', 'ojones@example.net'), (3, 'actually', 'aa656ced34-251', 'Theresa Thompson', 'White', 'Danielle', 'amanda56@example.net'), (27, 'bad', '3eabaa0b35-263', 'Theresa Thompson', 'White', 'Danielle', 'amanda56@example.net'), (6, 'rock', '4d6a2380e5-265', 'Paul King', 'Anderson', 'Tina', 'jessica10@example.net'), (11, 'as', '84dccacb16-455', 'Brandon Harmon', 'Navarro', 'Lauren', 'williamstokes@example.net'), (2, 'ready', 'c54e34b13f-182', 'Kathy Whitaker', 'Wilson', 'Latasha', 'ashley45@example.org'), (19, 'machine', '8274e9d9a0-798', 'Kathy Whitaker', 'Wilson', 'Latasha', 'ashley45@example.org'), (5, 'meet', '7daf4de04e-579', 'Ronald Williams', 'Sanchez', 'Sarah', 'zwalker@example.com')]>"
      ]
     },
     "execution_count": 6,
     "metadata": {},
     "output_type": "execute_result"
    }
   ],
   "source": [
    "FullInfoForStockOrder.objects.all()[:10].values_list()"
   ]
  },
  {
   "cell_type": "code",
   "execution_count": null,
   "id": "14845475-a2e3-457c-bb53-4675bc038bd0",
   "metadata": {},
   "outputs": [],
   "source": []
  }
 ],
 "metadata": {
  "kernelspec": {
   "display_name": "Django Shell-Plus",
   "language": "python",
   "name": "django_extensions"
  },
  "language_info": {
   "codemirror_mode": {
    "name": "ipython",
    "version": 3
   },
   "file_extension": ".py",
   "mimetype": "text/x-python",
   "name": "python",
   "nbconvert_exporter": "python",
   "pygments_lexer": "ipython3",
   "version": "3.11.4"
  }
 },
 "nbformat": 4,
 "nbformat_minor": 5
}
