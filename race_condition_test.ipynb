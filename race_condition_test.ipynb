{
 "cells": [
  {
   "cell_type": "code",
   "execution_count": 1,
   "id": "31af2f5f-9337-49ac-9f56-cc140a702393",
   "metadata": {},
   "outputs": [],
   "source": [
    "import os\n",
    "import threading\n",
    "from django.db import connection\n",
    "import timeit"
   ]
  },
  {
   "cell_type": "code",
   "execution_count": 2,
   "id": "8638a5b7-ee84-471a-a378-63d3633b385b",
   "metadata": {},
   "outputs": [],
   "source": [
    "os.environ[\"DJANGO_ALLOW_ASYNC_UNSAFE\"] = \"true\""
   ]
  },
  {
   "cell_type": "code",
   "execution_count": 3,
   "id": "f448a015-f43a-473e-aca9-92c1374286be",
   "metadata": {},
   "outputs": [],
   "source": [
    "from sync.models import StockOrder"
   ]
  },
  {
   "cell_type": "code",
   "execution_count": 4,
   "id": "4de72d2f-fee1-4462-8d05-65bc2bd3a6eb",
   "metadata": {},
   "outputs": [],
   "source": [
    "StockOrder.objects.filter(id=12).update(order_quantity=0)\n",
    "result=StockOrder.objects.get(id=12)"
   ]
  },
  {
   "cell_type": "code",
   "execution_count": 5,
   "id": "e2aadc0d-704f-4b81-b1b6-b86805fbb8ee",
   "metadata": {},
   "outputs": [
    {
     "name": "stdout",
     "output_type": "stream",
     "text": [
      "1) test id :  12  order_quantity :  0\n"
     ]
    }
   ],
   "source": [
    "print(\"1) test id : \",result.id,\" order_quantity : \",result.order_quantity)"
   ]
  },
  {
   "cell_type": "code",
   "execution_count": 19,
   "id": "36818d33-3487-4cb7-8eef-9b59dc4a3332",
   "metadata": {},
   "outputs": [],
   "source": [
    "def add_stock_order(product_id):\n",
    "    so = StockOrder.objects.get(id=product_id)\n",
    "    for _ in range(30):\n",
    "        if so.order_quantity >= 0:\n",
    "            so.order_quantity += 1\n",
    "            so.save()\n",
    "            #print(\"th id : \", threading.current_thread().ident, \" : \", so.order_quantity,\"\\n\")"
   ]
  },
  {
   "cell_type": "code",
   "execution_count": 20,
   "id": "d4cff950-3cc3-4b1e-bddf-5c627732814b",
   "metadata": {},
   "outputs": [
    {
     "name": "stdout",
     "output_type": "stream",
     "text": [
      "1800034\n"
     ]
    }
   ],
   "source": [
    "thread1 = threading.Thread(target=add_stock_order, args=(result.id,))\n",
    "thread2 = threading.Thread(target=add_stock_order, args=(result.id,))\n",
    "thread1.start()\n",
    "thread2.start()\n",
    "\n",
    "thread1.join()\n",
    "thread2.join()\n",
    "result.refresh_from_db()\n",
    "print(result.order_quantity)"
   ]
  },
  {
   "cell_type": "code",
   "execution_count": 21,
   "id": "e884f390-dd52-47f1-9dc5-53bb32c20f85",
   "metadata": {},
   "outputs": [],
   "source": [
    "# for _ in range(100):\n",
    "#     add_stock_order(result.id)\n",
    "\n",
    "# result.refresh_from_db()\n",
    "# print(result.order_quantity) "
   ]
  },
  {
   "cell_type": "code",
   "execution_count": 22,
   "id": "14845475-a2e3-457c-bb53-4675bc038bd0",
   "metadata": {},
   "outputs": [
    {
     "name": "stdout",
     "output_type": "stream",
     "text": [
      "2) test id :  12  order_quantity :  1800034\n"
     ]
    }
   ],
   "source": [
    "print(\"2) test id : \",result.id,\" order_quantity : \",result.order_quantity)"
   ]
  },
  {
   "cell_type": "code",
   "execution_count": 10,
   "id": "07c14414-bac5-48c7-8039-431fb1307bfe",
   "metadata": {},
   "outputs": [
    {
     "data": {
      "text/plain": [
       "1"
      ]
     },
     "execution_count": 10,
     "metadata": {},
     "output_type": "execute_result"
    }
   ],
   "source": [
    "StockOrder.objects.filter(id=12).update(order_quantity=0)"
   ]
  },
  {
   "cell_type": "code",
   "execution_count": 11,
   "id": "b7f170b1-e41a-46cf-a106-57e14170812d",
   "metadata": {},
   "outputs": [],
   "source": [
    "def call_update_stock(id, number):\n",
    "    for _ in range(30000):\n",
    "        with connection.cursor() as cursor:\n",
    "            sql = f\"SELECT update_quantity({id}, {number})\"\n",
    "            cursor.execute(sql)\n",
    "            result = cursor.fetchone()  # 단일 행 결과를 가져옴\n",
    "            # result = cursor.fetchall()  # 모든 행 결과를 가져옴\n",
    "    \n",
    "            # 쿼리 결과를 확인하고 처리할 내용을 추가로 작성하세요.\n",
    "            if result is not None:\n",
    "                # 쿼리 결과가 존재하는 경우에 대한 처리\n",
    "                # result 변수에 반환된 결과가 저장됩니다.\n",
    "                # 원하는 작업을 수행하세요.\n",
    "                #print(result)\n",
    "                pass\n",
    "            else:\n",
    "                # 쿼리 결과가 없는 경우에 대한 처리\n",
    "                # 예외 상황 등에 대한 처리 코드를 작성하세요.\n",
    "                print(\"쿼리 결과가 없습니다.\")"
   ]
  },
  {
   "cell_type": "code",
   "execution_count": 12,
   "id": "7c9de66d-6810-4e0a-b9d8-32957ef6467f",
   "metadata": {},
   "outputs": [],
   "source": [
    "call_update_stock(12,1)"
   ]
  },
  {
   "cell_type": "code",
   "execution_count": 13,
   "id": "80e91d53-ee0e-4709-848a-a35973bfccbc",
   "metadata": {},
   "outputs": [
    {
     "name": "stdout",
     "output_type": "stream",
     "text": [
      "3) test id :  12  order_quantity :  10\n"
     ]
    }
   ],
   "source": [
    "print(\"3) test id : \",result.id,\" order_quantity : \",result.order_quantity)"
   ]
  },
  {
   "cell_type": "code",
   "execution_count": 14,
   "id": "90e54149-ab76-4575-abc7-6f992dbf251c",
   "metadata": {},
   "outputs": [
    {
     "data": {
      "text/plain": [
       "1"
      ]
     },
     "execution_count": 14,
     "metadata": {},
     "output_type": "execute_result"
    }
   ],
   "source": [
    "StockOrder.objects.filter(id=12).update(order_quantity=0)"
   ]
  },
  {
   "cell_type": "code",
   "execution_count": 15,
   "id": "8671ed14-9d19-491c-8164-cc437b903ecc",
   "metadata": {},
   "outputs": [
    {
     "name": "stdout",
     "output_type": "stream",
     "text": [
      "4) test id :  12  order_quantity :  0\n"
     ]
    }
   ],
   "source": [
    "result=StockOrder.objects.get(id=12)\n",
    "print(\"4) test id : \",result.id,\" order_quantity : \",result.order_quantity)"
   ]
  },
  {
   "cell_type": "code",
   "execution_count": 16,
   "id": "5d793f6a-61a0-4ddf-9e32-9f3ac90a2338",
   "metadata": {},
   "outputs": [
    {
     "name": "stdout",
     "output_type": "stream",
     "text": [
      "300000\n",
      "함수 실행 시간: 48.78140710000298초\n"
     ]
    }
   ],
   "source": [
    "def multi_thread_t1():\n",
    "    threads = []\n",
    "    for i in range(10):\n",
    "        thread = threading.Thread(target=call_update_stock, args=(result.id,1,))\n",
    "        threads.append(thread)\n",
    "        thread.start()\n",
    "    \n",
    "    for thread in threads:\n",
    "        thread.join()\n",
    "    \n",
    "    result.refresh_from_db()\n",
    "    print(result.order_quantity)\n",
    "\n",
    "execution_time = timeit.timeit(multi_thread_t1,number=1)\n",
    "\n",
    "print(f'함수 실행 시간: {execution_time}초')"
   ]
  },
  {
   "cell_type": "code",
   "execution_count": 17,
   "id": "5d45b034-30ec-486b-95d5-0e5bd5a08d1a",
   "metadata": {},
   "outputs": [
    {
     "name": "stdout",
     "output_type": "stream",
     "text": [
      "5) test id :  12  order_quantity :  300000\n"
     ]
    },
    {
     "data": {
      "text/plain": [
       "1"
      ]
     },
     "execution_count": 17,
     "metadata": {},
     "output_type": "execute_result"
    }
   ],
   "source": [
    "result=StockOrder.objects.get(id=12)\n",
    "print(\"5) test id : \",result.id,\" order_quantity : \",result.order_quantity)\n",
    "StockOrder.objects.filter(id=12).update(order_quantity=0)"
   ]
  },
  {
   "cell_type": "code",
   "execution_count": 18,
   "id": "674a456a-a1d2-4e62-bfcc-0c9514585d97",
   "metadata": {},
   "outputs": [
    {
     "name": "stdout",
     "output_type": "stream",
     "text": [
      "1800000\n",
      "함수 실행 시간: 358.2501574999915초\n"
     ]
    }
   ],
   "source": [
    "def multi_thread_t2():\n",
    "    threads = []\n",
    "    for i in range(60):\n",
    "        thread = threading.Thread(target=call_update_stock, args=(result.id,1,))\n",
    "        threads.append(thread)\n",
    "        thread.start()\n",
    "    \n",
    "    for thread in threads:\n",
    "        thread.join()\n",
    "    \n",
    "    result.refresh_from_db()\n",
    "    print(result.order_quantity)\n",
    "\n",
    "execution_time = timeit.timeit(multi_thread_t2,number=1)\n",
    "\n",
    "print(f'함수 실행 시간: {execution_time}초')"
   ]
  },
  {
   "cell_type": "code",
   "execution_count": null,
   "id": "d6cea3eb-323e-4166-9528-9720cfe9f8d6",
   "metadata": {},
   "outputs": [],
   "source": []
  }
 ],
 "metadata": {
  "kernelspec": {
   "display_name": "Django Shell-Plus",
   "language": "python",
   "name": "django_extensions"
  },
  "language_info": {
   "codemirror_mode": {
    "name": "ipython",
    "version": 3
   },
   "file_extension": ".py",
   "mimetype": "text/x-python",
   "name": "python",
   "nbconvert_exporter": "python",
   "pygments_lexer": "ipython3",
   "version": "3.11.4"
  }
 },
 "nbformat": 4,
 "nbformat_minor": 5
}
